{
 "cells": [
  {
   "cell_type": "markdown",
   "metadata": {},
   "source": [
    "# QUESTION\n",
    "\n",
    "Part One: Go to the Social Security Administration US births website(https://www.ssa.gov/oact/babynames/numberUSbirths.html) and select the births table there and copy it to your clipboard. Use the pandas read_clipboard function to read the table into Python, and use matplotlib to plot male and female births for the years covered in the data. Put this in an ipython notebook file. In the same notebook, use Python to get a list of male and female names from these files(https://www.dropbox.com/s/885phnsm7g5eytm/baby_names.zip?dl=0) This data is broken down by year of birth. \n",
    "\n",
    "Part Two: Aggregate the data for all years (see the examples in the Pandas notebooks). Use Python Counters to get letter frequencies for male and female names. Use matplotlib to draw a plot that for each letter (x-axis) shows the frequency of that letter (y-axis) as the last letter for both for male and female names. \n",
    "\n",
    "Part Three: Now do just female names, but aggregate your data in decades (10 year) increments. Produce a plot that contains the 1880s line, the 1940s line, and the 1990s line, as well as the female line for all years aggregated together from Part Two. Evaluate how stable this statistic is. Speculate on why it is is stable, if it is, or on what demographic facts might explain any changes, if there are any. Turn in your ipython notebook file, showing the code you used to complete parts One, Two, an Three."
   ]
  },
  {
   "cell_type": "code",
   "execution_count": 1,
   "metadata": {
    "collapsed": true
   },
   "outputs": [],
   "source": [
    "import sklearn\n",
    "import os\n",
    "import matplotlib.pyplot as plt\n",
    "%matplotlib inline\n",
    "import pandas as pd\n",
    "import numpy as np"
   ]
  },
  {
   "cell_type": "code",
   "execution_count": 2,
   "metadata": {},
   "outputs": [
    {
     "name": "stdout",
     "output_type": "stream",
     "text": [
      "     birth       Male     Female      Total\n",
      "0     1880    118,400     97,604    216,004\n",
      "1     1881    108,282     98,855    207,137\n",
      "2     1882    122,031    115,695    237,726\n",
      "3     1883    112,477    120,059    232,536\n",
      "4     1884    122,739    137,586    260,325\n",
      "5     1885    115,945    141,949    257,894\n",
      "6     1886    119,041    153,735    272,776\n",
      "7     1887    109,315    155,422    264,737\n",
      "8     1888    129,906    189,447    319,353\n",
      "9     1889    119,033    189,219    308,252\n",
      "10    1890    119,701    201,661    321,362\n",
      "11    1891    109,265    196,567    305,832\n",
      "12    1892    131,453    224,913    356,366\n",
      "13    1893    121,040    225,232    346,272\n",
      "14    1894    124,893    235,972    360,865\n",
      "15    1895    126,644    247,106    373,750\n",
      "16    1896    129,071    251,993    381,064\n",
      "17    1897    121,942    248,276    370,218\n",
      "18    1898    132,104    274,145    406,249\n",
      "19    1899    115,194    247,490    362,684\n",
      "20    1900    162,136    317,765    479,901\n",
      "21    1901    115,596    254,231    369,827\n",
      "22    1902    132,749    280,334    413,083\n",
      "23    1903    129,327    278,197    407,524\n",
      "24    1904    138,508    292,435    430,943\n",
      "25    1905    143,241    309,868    453,109\n",
      "26    1906    144,072    313,440    457,512\n",
      "27    1907    158,588    337,433    496,021\n",
      "28    1908    166,368    354,531    520,899\n",
      "29    1909    176,868    368,097    544,965\n",
      "..     ...        ...        ...        ...\n",
      "107   1987  1,949,260  1,873,696  3,822,956\n",
      "108   1988  2,001,087  1,922,429  3,923,516\n",
      "109   1989  2,095,312  1,991,833  4,087,145\n",
      "110   1990  2,150,985  2,053,848  4,204,833\n",
      "111   1991  2,119,088  2,033,020  4,152,108\n",
      "112   1992  2,098,502  2,004,237  4,102,739\n",
      "113   1993  2,064,883  1,971,108  4,035,991\n",
      "114   1994  2,037,863  1,948,955  3,986,818\n",
      "115   1995  2,010,917  1,921,147  3,932,064\n",
      "116   1996  2,003,219  1,916,774  3,919,993\n",
      "117   1997  1,997,199  1,908,700  3,905,899\n",
      "118   1998  2,026,988  1,937,876  3,964,864\n",
      "119   1999  2,038,121  1,946,028  3,984,149\n",
      "120   2000  2,087,172  1,994,676  4,081,848\n",
      "121   2001  2,067,193  1,979,793  4,046,986\n",
      "122   2002  2,065,323  1,973,757  4,039,080\n",
      "123   2003  2,099,842  2,005,167  4,105,009\n",
      "124   2004  2,111,945  2,016,339  4,128,284\n",
      "125   2005  2,125,748  2,027,865  4,153,613\n",
      "126   2006  2,190,481  2,088,675  4,279,156\n",
      "127   2007  2,213,001  2,114,380  4,327,381\n",
      "128   2008  2,177,987  2,080,467  4,258,454\n",
      "129   2009  2,118,374  2,022,399  4,140,773\n",
      "130   2010  2,051,486  1,957,645  4,009,131\n",
      "131   2011  2,027,805  1,934,276  3,962,081\n",
      "132   2012  2,024,813  1,935,222  3,960,035\n",
      "133   2013  2,015,372  1,922,536  3,937,908\n",
      "134   2014  2,042,503  1,949,966  3,992,469\n",
      "135   2015  2,035,632  1,942,833  3,978,465\n",
      "136   2016  2,008,947  1,920,613  3,929,560\n",
      "\n",
      "[137 rows x 4 columns]\n"
     ]
    }
   ],
   "source": [
    "data=pd.read_clipboard(skiprows=1)\n",
    "print(data)"
   ]
  },
  {
   "cell_type": "code",
   "execution_count": 3,
   "metadata": {
    "collapsed": true
   },
   "outputs": [],
   "source": [
    "#Male_count = data['Male']\n",
    "Female_count = data['Female']\n",
    "birth_count = pd.Series(data['birth']).astype(int)\n",
    "male_list = []\n",
    "female_list = []\n",
    "birth_list = []\n",
    "\n",
    "for i in data['Male']:\n",
    "    i = str.replace(i,',','')\n",
    "    male_list.append(int(i))\n",
    "\n",
    "for i in data['birth']:\n",
    "    birth_list.append(int(i))\n",
    "\n",
    "for i in data['Female']:\n",
    "    i = str.replace(i,',','')\n",
    "    female_list.append(int(i))\n",
    "#print(type(male_list)"
   ]
  },
  {
   "cell_type": "code",
   "execution_count": 4,
   "metadata": {},
   "outputs": [
    {
     "data": {
      "image/png": "[encoded data removed]",
      "text/plain": [
       "<matplotlib.figure.Figure at 0x246a8b7390>"
      ]
     },
     "metadata": {},
     "output_type": "display_data"
    }
   ],
   "source": [
    "#ind = np.arange(birth_count[0], birth_count[135], 25)\n",
    "width = 0.35 \n",
    "\n",
    "fig, ax = plt.subplots()\n",
    "#rects1 = ax.bar(ind, Male_count, width, color='r')\n",
    "\n",
    "rects1 = ax.plot(birth_list, male_list, width, color='b')\n",
    "rects2 = ax.plot(birth_list, female_list, width, color='r')\n",
    "#ax.set_yscale('log')\n",
    "ax.set_xlim(1880, 2020)\n",
    "#ax.set_ylim(5e4, 5e6)\n",
    "ax.set_xlabel('Birth Year')\n",
    "ax.set_ylabel('Count')\n",
    "ax.set_title('Birth year by gender')\n",
    "ax.grid(True)\n",
    "\n",
    "ax.legend((rects1[0], rects2[0]), ('Men', 'Women'))\n",
    "\n",
    "plt.savefig(os.path.join('birthYear.png'), dpi=300, format='png', bbox_inches='tight')\n"
   ]
  },
  {
   "cell_type": "markdown",
   "metadata": {},
   "source": [
    "# PART 2"
   ]
  },
  {
   "cell_type": "code",
   "execution_count": 5,
   "metadata": {
    "collapsed": true,
    "scrolled": true
   },
   "outputs": [],
   "source": [
    "import pandas as pd\n",
    "years = range(1881,2011)\n",
    "pieces = []\n",
    "columns = ['name','sex','births']\n",
    "    \n",
    "for year in years:\n",
    "    path = '../baby_names/names/yob{0:d}.txt'.format(year)\n", 
    "    frame = pd.read_csv(path,names=columns)\n",
    "    frame['year'] = year\n",
    "    pieces.append(frame)    \n",
    "    \n",
    "names = pd.concat(pieces, ignore_index=True)"
   ]
  },
  {
   "cell_type": "code",
   "execution_count": 6,
   "metadata": {},
   "outputs": [
    {
     "data": {
      "text/html": [
       "<div>\n",
       "<style scoped>\n",
       "    .dataframe tbody tr th:only-of-type {\n",
       "        vertical-align: middle;\n",
       "    }\n",
       "\n",
       "    .dataframe tbody tr th {\n",
       "        vertical-align: top;\n",
       "    }\n",
       "\n",
       "    .dataframe thead th {\n",
       "        text-align: right;\n",
       "    }\n",
       "</style>\n",
       "<table border=\"1\" class=\"dataframe\">\n",
       "  <thead>\n",
       "    <tr style=\"text-align: right;\">\n",
       "      <th></th>\n",
       "      <th>name</th>\n",
       "      <th>sex</th>\n",
       "      <th>births</th>\n",
       "      <th>year</th>\n",
       "    </tr>\n",
       "  </thead>\n",
       "  <tbody>\n",
       "    <tr>\n",
       "      <th>0</th>\n",
       "      <td>Mary</td>\n",
       "      <td>F</td>\n",
       "      <td>6919</td>\n",
       "      <td>1881</td>\n",
       "    </tr>\n",
       "    <tr>\n",
       "      <th>1</th>\n",
       "      <td>Anna</td>\n",
       "      <td>F</td>\n",
       "      <td>2698</td>\n",
       "      <td>1881</td>\n",
       "    </tr>\n",
       "    <tr>\n",
       "      <th>2</th>\n",
       "      <td>Emma</td>\n",
       "      <td>F</td>\n",
       "      <td>2034</td>\n",
       "      <td>1881</td>\n",
       "    </tr>\n",
       "    <tr>\n",
       "      <th>3</th>\n",
       "      <td>Elizabeth</td>\n",
       "      <td>F</td>\n",
       "      <td>1852</td>\n",
       "      <td>1881</td>\n",
       "    </tr>\n",
       "    <tr>\n",
       "      <th>4</th>\n",
       "      <td>Margaret</td>\n",
       "      <td>F</td>\n",
       "      <td>1658</td>\n",
       "      <td>1881</td>\n",
       "    </tr>\n",
       "  </tbody>\n",
       "</table>\n",
       "</div>"
      ],
      "text/plain": [
       "        name sex  births  year\n",
       "0       Mary   F    6919  1881\n",
       "1       Anna   F    2698  1881\n",
       "2       Emma   F    2034  1881\n",
       "3  Elizabeth   F    1852  1881\n",
       "4   Margaret   F    1658  1881"
      ]
     },
     "execution_count": 6,
     "metadata": {},
     "output_type": "execute_result"
    }
   ],
   "source": [
    "names.head()"
   ]
  },
  {
   "cell_type": "code",
   "execution_count": 7,
   "metadata": {},
   "outputs": [
    {
     "name": "stdout",
     "output_type": "stream",
     "text": [
      "Female Letters count: \n",
      "Counter({'a': 1106691, 'e': 808732, 'n': 586892, 'i': 558570, 'l': 499178, 'r': 418955, 's': 271518, 't': 267157, 'y': 221353, 'h': 219581, 'o': 208432, 'm': 188030, 'd': 184736, 'c': 153819, 'k': 111843, 'u': 86084, 'j': 82958, 'b': 73211, 'v': 66889, 'g': 62188, 'z': 35572, 'p': 31781, 'f': 28774, 'w': 23138, 'q': 12479, 'x': 7608})\n",
      "Male Letters Count: \n",
      "Counter({'a': 473311, 'e': 461160, 'n': 367462, 'r': 358075, 'i': 294758, 'l': 288703, 'o': 286286, 's': 181320, 'd': 174305, 't': 164948, 'm': 134677, 'h': 127314, 'y': 114680, 'c': 113693, 'u': 99128, 'k': 75215, 'b': 68392, 'j': 64378, 'v': 59996, 'g': 54872, 'w': 38851, 'f': 35285, 'p': 31022, 'z': 23641, 'q': 10758, 'x': 7561})\n"
     ]
    }
   ],
   "source": [
    "import collections\n",
    "names.name = names.name.astype(str).str.lower()\n",
    "female_totalLetterCount = collections.Counter(\"\".join(names.loc[names.sex.astype(str) == 'F'].name.astype(str)))\n",
    "male_totalLetterCount = collections.Counter(\"\".join(names.loc[names.sex.astype(str) == 'M'].name.astype(str)))\n",
    "\n",
    "print(\"Female Letters count: \")\n",
    "print(female_totalLetterCount)\n",
    "print(\"Male Letters Count: \")\n",
    "print(male_totalLetterCount)"
   ]
  },
  {
   "cell_type": "code",
   "execution_count": 10,
   "metadata": {},
   "outputs": [
    {
     "name": "stdout",
     "output_type": "stream",
     "text": [
      "Female Last Letter Frequency: \n",
      "Counter({'a': 422650, 'e': 226254, 'n': 101182, 'y': 61742, 'i': 44042, 'h': 38365, 'l': 35834, 's': 19402, 'r': 14056, 't': 10528, 'o': 8316, 'd': 6464, 'm': 3610, 'u': 2019, 'z': 1843, 'g': 1735, 'k': 1548, 'x': 843, 'c': 760, 'w': 640, 'b': 441, 'p': 355, 'j': 157, 'f': 125, 'v': 107, 'q': 24})\n",
      "Male Last Letter Frequency: \n",
      "Counter({'n': 162164, 'e': 89489, 'l': 59630, 'o': 54056, 'y': 53839, 's': 51797, 'r': 39092, 'd': 36761, 'a': 24564, 't': 21226, 'h': 17462, 'i': 17253, 'k': 13634, 'm': 12404, 'g': 5071, 'c': 5033, 'z': 4175, 'b': 3222, 'f': 3042, 'u': 2657, 'w': 2230, 'p': 1941, 'x': 1919, 'v': 1379, 'j': 1200, 'q': 500})\n",
      "Total Last Letter Frequency: \n",
      "Counter({'a': 447215, 'e': 315743, 'n': 263346, 'y': 115581, 'l': 95464, 's': 71199, 'o': 62372, 'i': 61295, 'h': 55827, 'r': 53148, 'd': 43225, 't': 31754, 'm': 16014, 'k': 15182, 'g': 6806, 'z': 6018, 'c': 5793, 'u': 4676, 'b': 3663, 'f': 3167, 'w': 2870, 'x': 2762, 'p': 2296, 'v': 1486, 'j': 1357, 'q': 524})\n"
     ]
    }
   ],
   "source": [
    "temp = names.loc[names.sex.astype(str) == 'F'].name.astype(str)\n",
    "temp1 = []\n",
    "iterator = 1\n",
    "for i in temp[0:-1]:\n",
    "    temp1.append(i[-1:])\n",
    "female_lastLetterCount = collections.Counter(\"\".join(temp1))\n",
    "print(\"Female Last Letter Frequency: \")\n",
    "print(female_lastLetterCount)\n",
    "\n",
    "temp = names.loc[names.sex.astype(str) == 'M'].name.astype(str)\n",
    "temp2 = []\n",
    "iterator = 1\n",
    "for i in temp[0:-1]:\n",
    "    temp2.append(i[-1:])\n",
    "male_lastLetterCount = collections.Counter(\"\".join(temp2))\n",
    "print(\"Male Last Letter Frequency: \")\n",
    "print(male_lastLetterCount)\n",
    "\n",
    "temp = names.name.astype(str)\n",
    "temp3 = []\n",
    "iterator = 1\n",
    "for i in temp[0:-1]:\n",
    "    temp3.append(i[-1:])\n",
    "total_lastLetterCount = collections.Counter(\"\".join(temp3))\n",
    "print(\"Total Last Letter Frequency: \")\n",
    "print(total_lastLetterCount)"
   ]
  },
  {
   "cell_type": "code",
   "execution_count": 11,
   "metadata": {},
   "outputs": [
    {
     "data": {
      "text/plain": [
       "[('a', 447215),\n",
       " ('b', 3663),\n",
       " ('c', 5793),\n",
       " ('d', 43225),\n",
       " ('e', 315743),\n",
       " ('f', 3167),\n",
       " ('g', 6806),\n",
       " ('h', 55827),\n",
       " ('i', 61295),\n",
       " ('j', 1357),\n",
       " ('k', 15182),\n",
       " ('l', 95464),\n",
       " ('m', 16014),\n",
       " ('n', 263346),\n",
       " ('o', 62372),\n",
       " ('p', 2296),\n",
       " ('q', 524),\n",
       " ('r', 53148),\n",
       " ('s', 71199),\n",
       " ('t', 31754),\n",
       " ('u', 4676),\n",
       " ('v', 1486),\n",
       " ('w', 2870),\n",
       " ('x', 2762),\n",
       " ('y', 115581),\n",
       " ('z', 6018)]"
      ]
     },
     "execution_count": 11,
     "metadata": {},
     "output_type": "execute_result"
    }
   ],
   "source": [
    "sorted(female_lastLetterCount.items())\n",
    "sorted(male_lastLetterCount.items())\n",
    "sorted(total_lastLetterCount.items())"
   ]
  },
  {
   "cell_type": "code",
   "execution_count": 12,
   "metadata": {},
   "outputs": [],
   "source": [
    "labelsF, valuesF = zip(*sorted(female_lastLetterCount.items()))\n",
    "labelsM, valuesM = zip(*sorted(male_lastLetterCount.items()))\n",
    "labelsT, valuesT = zip(*sorted(total_lastLetterCount.items()))"
   ]
  },
  {
   "cell_type": "code",
   "execution_count": 13,
   "metadata": {},
   "outputs": [
    {
     "data": {
      "image/png": "[encoded data removed]",
      "text/plain": [
       "<matplotlib.figure.Figure at 0x24002f6c50>"
      ]
     },
     "metadata": {},
     "output_type": "display_data"
    },
    {
     "data": {
      "text/plain": [
       "<matplotlib.figure.Figure at 0x240033b400>"
      ]
     },
     "metadata": {},
     "output_type": "display_data"
    }
   ],
   "source": [
    "import matplotlib.pyplot as plt\n",
    "import numpy as np\n",
    "import os\n",
    "indexes = np.arange(len(labelsF))\n",
    "\n",
    "width = 0.35 \n",
    "\n",
    "fig, ax = plt.subplots()\n",
    "#rects1 = ax.bar(ind, Male_count, width, color='r')\n",
    "\n",
    "rects1 = ax.plot(indexes, valuesM, width, color='b')\n",
    "rects2 = ax.plot(indexes, valuesF, width, color='r')\n",
    "rects3 = ax.plot(indexes, valuesT, width, color='g')\n",
    "\n",
    "ax.set_title('Last Letter in the name frequency for each gender')\n",
    "ax.grid(True)\n",
    "ax.legend((rects1[0], rects2[0], rects3[0]), ('Men', 'Women','Total'))\n",
    "ax.set_xlabel('Alphabets')\n",
    "ax.set_ylabel('Frequency')\n",
    "plt.show()\n",
    "plt.savefig(os.path.join('lastLetter.png'), dpi=300, format='png', bbox_inches='tight')"
   ]
  },
  {
   "cell_type": "markdown",
   "metadata": {},
   "source": [
    "# PART 3"
   ]
  },
  {
   "cell_type": "code",
   "execution_count": 14,
   "metadata": {},
   "outputs": [
    {
     "name": "stdout",
     "output_type": "stream",
     "text": [
      "Female Last Letter Frequency in 1880s: \n",
      "Counter({'a': 4717, 'e': 3854, 'y': 586, 'n': 329, 'l': 324, 'h': 307, 's': 220, 'r': 176, 't': 132, 'd': 111, 'o': 54, 'm': 29, 'i': 24, 'u': 22, 'g': 15, 'z': 12, 'k': 12, 'w': 2, 'c': 2, 'x': 1})\n",
      "Female Last Letter Frequency in 1940s: \n",
      "Counter({'a': 20207, 'e': 16640, 'n': 6134, 'y': 3178, 'l': 2580, 's': 1470, 'i': 1308, 'h': 928, 'r': 719, 't': 629, 'd': 486, 'o': 333, 'm': 135, 'u': 120, 'g': 85, 'z': 75, 'k': 66, 'x': 44, 'w': 31, 'p': 19, 'b': 18, 'c': 14, 'v': 10})\n",
      "Female Last Letter Frequency in 1990s: \n",
      "Counter({'a': 71322, 'e': 28064, 'n': 17677, 'y': 10689, 'i': 8893, 'h': 7263, 'l': 4734, 's': 2434, 'r': 2218, 't': 1454, 'o': 1083, 'm': 672, 'd': 663, 'z': 348, 'u': 348, 'g': 331, 'k': 233, 'c': 159, 'x': 157, 'b': 105, 'p': 100, 'w': 93, 'j': 55, 'f': 28, 'v': 19, 'q': 2})\n"
     ]
    }
   ],
   "source": [
    "temp = names.loc[(names.sex.astype(str) == 'F') & (names.year.astype(str) >= '1880') & (names.year.astype(str) < '1890')].name.astype(str)\n",
    "temp4 = []\n",
    "iterator = 1\n",
    "for i in temp[0:-1]:\n",
    "    temp4.append(i[-1:])\n",
    "f1880_lastLetterCount = collections.Counter(\"\".join(temp4))\n",
    "print(\"Female Last Letter Frequency in 1880s: \")\n",
    "print(f1880_lastLetterCount)\n",
    "\n",
    "temp = names.loc[(names.sex.astype(str) == 'F') & (names.year.astype(str) >= '1940') & (names.year.astype(str) < '1950')].name.astype(str)\n",
    "temp5 = []\n",
    "iterator = 1\n",
    "for i in temp[0:-1]:\n",
    "    temp5.append(i[-1:])\n",
    "f1940_lastLetterCount = collections.Counter(\"\".join(temp5))\n",
    "print(\"Female Last Letter Frequency in 1940s: \")\n",
    "print(f1940_lastLetterCount)\n",
    "\n",
    "temp = names.loc[(names.sex.astype(str) == 'F') & (names.year.astype(str) >= '1990') & (names.year.astype(str) < '2000')].name.astype(str)\n",
    "temp6 = []\n",
    "iterator = 1\n",
    "for i in temp[0:-1]:\n",
    "    temp6.append(i[-1:])\n",
    "f1990_lastLetterCount = collections.Counter(\"\".join(temp6))\n",
    "print(\"Female Last Letter Frequency in 1990s: \")\n",
    "print(f1990_lastLetterCount)"
   ]
  },
  {
   "cell_type": "code",
   "execution_count": 15,
   "metadata": {},
   "outputs": [
    {
     "data": {
      "text/plain": [
       "[('a', 71322),\n",
       " ('b', 105),\n",
       " ('c', 159),\n",
       " ('d', 663),\n",
       " ('e', 28064),\n",
       " ('f', 28),\n",
       " ('g', 331),\n",
       " ('h', 7263),\n",
       " ('i', 8893),\n",
       " ('j', 55),\n",
       " ('k', 233),\n",
       " ('l', 4734),\n",
       " ('m', 672),\n",
       " ('n', 17677),\n",
       " ('o', 1083),\n",
       " ('p', 100),\n",
       " ('q', 2),\n",
       " ('r', 2218),\n",
       " ('s', 2434),\n",
       " ('t', 1454),\n",
       " ('u', 348),\n",
       " ('v', 19),\n",
       " ('w', 93),\n",
       " ('x', 157),\n",
       " ('y', 10689),\n",
       " ('z', 348)]"
      ]
     },
     "execution_count": 15,
     "metadata": {},
     "output_type": "execute_result"
    }
   ],
   "source": [
    "sorted(f1880_lastLetterCount.items())\n",
    "sorted(f1940_lastLetterCount.items())\n",
    "sorted(f1990_lastLetterCount.items())"
   ]
  },
  {
   "cell_type": "code",
   "execution_count": 16,
   "metadata": {
    "collapsed": true
   },
   "outputs": [],
   "source": [
    "labelsF1880, valuesF1880 = zip(*sorted(f1880_lastLetterCount.items()))\n",
    "labelsF1940, valuesF1940 = zip(*sorted(f1940_lastLetterCount.items()))\n",
    "labelsF1990, valuesF1990 = zip(*sorted(f1990_lastLetterCount.items()))"
   ]
  },
  {
   "cell_type": "code",
   "execution_count": 17,
   "metadata": {},
   "outputs": [
    {
     "data": {
      "image/png": "[encoded data removed]",
      "text/plain": [
       "<matplotlib.figure.Figure at 0x24002eee10>"
      ]
     },
     "metadata": {},
     "output_type": "display_data"
    },
    {
     "data": {
      "text/plain": [
       "<matplotlib.figure.Figure at 0x240b38bc18>"
      ]
     },
     "metadata": {},
     "output_type": "display_data"
    }
   ],
   "source": [
    "import matplotlib.pyplot as plt\n",
    "import numpy as np\n",
    "import os\n",
    "indexes1880 = np.arange(len(labelsF1880))\n",
    "indexes1940 = np.arange(len(labelsF1940))\n",
    "indexes1990 = np.arange(len(labelsF1990))\n",
    "indexesT = np.arange(len(labelsT))\n",
    "\n",
    "\n",
    "width = 0.35 \n",
    "\n",
    "fig, ax = plt.subplots()\n",
    "#rects1 = ax.bar(ind, Male_count, width, color='r')\n",
    "\n",
    "rects1 = ax.plot(indexes1880, valuesF1880, width, color='b')\n",
    "rects2 = ax.plot(indexes1940, valuesF1940, width, color='r')\n",
    "rects3 = ax.plot(indexes1990, valuesF1990, width, color='g')\n",
    "rects4 = ax.plot(indexesT, valuesT, width, color='y')\n",
    "\n",
    "ax.set_title('Last Letter in the name frequency for female')\n",
    "ax.grid(True)\n",
    "ax.legend((rects1[0], rects2[0], rects3[0],rects4[0]), ('1880', '1940','1990','Total'))\n",
    "ax.set_xlabel('Alphabets')\n",
    "ax.set_ylabel('Frequency')\n",
    "plt.show()\n",
    "plt.savefig(os.path.join('female.png'), dpi=300, format='png', bbox_inches='tight')"
   ]
  },
  {
   "cell_type": "code",
   "execution_count": null,
   "metadata": {
    "collapsed": true
   },
   "outputs": [],
   "source": []
  }
 ],
 "metadata": {
  "kernelspec": {
   "display_name": "Python 3",
   "language": "python",
   "name": "python3"
  },
  "language_info": {
   "codemirror_mode": {
    "name": "ipython",
    "version": 3
   },
   "file_extension": ".py",
   "mimetype": "text/x-python",
   "name": "python",
   "nbconvert_exporter": "python",
   "pygments_lexer": "ipython3",
   "version": "3.6.3"
  }
 },
 "nbformat": 4,
 "nbformat_minor": 2
}
